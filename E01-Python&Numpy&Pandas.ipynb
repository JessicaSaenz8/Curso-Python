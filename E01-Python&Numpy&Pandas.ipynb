{
 "cells": [
  {
   "cell_type": "markdown",
   "metadata": {},
   "source": [
    "# Exercise 01.1\n",
    "\n",
    "Create a function that receives two inputs a and b, and returns the product of the a decimal of pi and the b decimal of pi.\n",
    "\n",
    "```\n",
    "i.e, \n",
    "pi = 3.14159\n",
    "if a = 2 and b = 4\n",
    "result = 4 * 5\n",
    "result = 20\n",
    "```\n",
    "\n",
    "Caveats:\n",
    "- a and b are between 1 and 15\n",
    "- decimals positions 1 and 2 are 1 and 4, respectively. (remember that python start indexing in 0)"
   ]
  },
  {
   "cell_type": "code",
   "execution_count": 12,
   "metadata": {},
   "outputs": [],
   "source": [
    "from math import pi\n",
    "def mult_dec_pi(a, b):\n",
    "    stringpi=str(pi)\n",
    "    p=stringpi.replace(\".\",'')\n",
    "    if a <= 0 or b <= 0 or a>15 or b > 15:\n",
    "        print (\"Error\")\n",
    "        \n",
    "    else:\n",
    "        result =(int(p[a]))*(int(p[b]))\n",
    "        print(result)"
   ]
  },
  {
   "cell_type": "code",
   "execution_count": 13,
   "metadata": {
    "scrolled": true
   },
   "outputs": [
    {
     "name": "stdout",
     "output_type": "stream",
     "text": [
      "4\n"
     ]
    }
   ],
   "source": [
    "mult_dec_pi(2,3)"
   ]
  },
  {
   "cell_type": "code",
   "execution_count": 14,
   "metadata": {},
   "outputs": [
    {
     "name": "stdout",
     "output_type": "stream",
     "text": [
      "Error\n"
     ]
    }
   ],
   "source": [
    "mult_dec_pi(6,0)"
   ]
  },
  {
   "cell_type": "code",
   "execution_count": 15,
   "metadata": {},
   "outputs": [
    {
     "name": "stdout",
     "output_type": "stream",
     "text": [
      "20\n"
     ]
    }
   ],
   "source": [
    "mult_dec_pi(a=2, b=4)\n",
    "# 20.0"
   ]
  },
  {
   "cell_type": "code",
   "execution_count": 16,
   "metadata": {},
   "outputs": [
    {
     "name": "stdout",
     "output_type": "stream",
     "text": [
      "45\n"
     ]
    }
   ],
   "source": [
    "mult_dec_pi(a=5, b=10)\n",
    "# 45.0"
   ]
  },
  {
   "cell_type": "code",
   "execution_count": 17,
   "metadata": {},
   "outputs": [
    {
     "name": "stdout",
     "output_type": "stream",
     "text": [
      "9\n"
     ]
    }
   ],
   "source": [
    "mult_dec_pi(a=14, b=1)\n",
    "# 9.0"
   ]
  },
  {
   "cell_type": "code",
   "execution_count": 18,
   "metadata": {},
   "outputs": [
    {
     "name": "stdout",
     "output_type": "stream",
     "text": [
      "10\n"
     ]
    }
   ],
   "source": [
    "mult_dec_pi(a=6, b=8)\n",
    "# 10.0"
   ]
  },
  {
   "cell_type": "code",
   "execution_count": 19,
   "metadata": {},
   "outputs": [
    {
     "name": "stdout",
     "output_type": "stream",
     "text": [
      "Error\n"
     ]
    }
   ],
   "source": [
    "# Bonus\n",
    "mult_dec_pi(a=16, b=4)\n",
    "# 'Error'"
   ]
  },
  {
   "cell_type": "markdown",
   "metadata": {},
   "source": [
    "# Exercise 01.2\n",
    "\n",
    "Using the given dataset. Estimate a linear regression between Employed and GNP.\n",
    "\n",
    "$$Employed = b_0 + b_1 * GNP $$\n",
    "\n",
    "$$\\hat b = (X^TX)^{-1}X^TY$$\n",
    "$$Y = Employed$$\n",
    "$$X = [1  \\quad GNP]$$"
   ]
  },
  {
   "cell_type": "code",
   "execution_count": 20,
   "metadata": {},
   "outputs": [
    {
     "data": {
      "text/plain": [
       "Text(0, 0.5, 'Employed')"
      ]
     },
     "execution_count": 20,
     "metadata": {},
     "output_type": "execute_result"
    },
    {
     "data": {
      "image/png": "[encoded data removed]",
      "text/plain": [
       "<Figure size 432x288 with 1 Axes>"
      ]
     },
     "metadata": {
      "needs_background": "light"
     },
     "output_type": "display_data"
    }
   ],
   "source": [
    "%matplotlib inline\n",
    "import numpy as np\n",
    "import pandas as pd\n",
    "import statsmodels.api as sm\n",
    "import matplotlib.pyplot as plt\n",
    "# Import data\n",
    "raw_data = \"\"\"\n",
    "Year,Employed,GNP\n",
    "1947,60.323,234.289\n",
    "1948,61.122,259.426\n",
    "1949,60.171,258.054\n",
    "1950,61.187,284.599\n",
    "1951,63.221,328.975\n",
    "1952,63.639,346.999\n",
    "1953,64.989,365.385\n",
    "1954,63.761,363.112\n",
    "1955,66.019,397.469\n",
    "1956,67.857,419.18\n",
    "1957,68.169,442.769\n",
    "1958,66.513,444.546\n",
    "1959,68.655,482.704\n",
    "1960,69.564,502.601\n",
    "1961,69.331,518.173\n",
    "1962,70.551,554.894\"\"\"\n",
    "\n",
    "data = []\n",
    "for line in raw_data.splitlines()[2:]:\n",
    "    words = line.split(',')\n",
    "    data.append(words)\n",
    "data = np.array(data, dtype=np.float)\n",
    "n_obs = data.shape[0]\n",
    "plt.plot(data[:, 2], data[:, 1], 'bo')\n",
    "plt.xlabel(\"GNP\")\n",
    "plt.ylabel(\"Employed\")"
   ]
  },
  {
   "cell_type": "code",
   "execution_count": 21,
   "metadata": {},
   "outputs": [],
   "source": [
    "columns_name=(\"Date\",\"Employed\",\"GNP\")\n",
    "DF= pd.DataFrame(data, columns=columns_name)\n",
    "y=DF.Employed\n",
    "x= DF.GNP\n",
    "x=sm.add_constant(x)\n",
    "model = sm.OLS(y,x)\n",
    "results=model.fit()"
   ]
  },
  {
   "cell_type": "code",
   "execution_count": 22,
   "metadata": {
    "scrolled": false
   },
   "outputs": [
    {
     "data": {
      "text/plain": [
       "const    51.843590\n",
       "GNP       0.034752\n",
       "dtype: float64"
      ]
     },
     "execution_count": 22,
     "metadata": {},
     "output_type": "execute_result"
    }
   ],
   "source": [
    "results.params"
   ]
  },
  {
   "cell_type": "code",
   "execution_count": 23,
   "metadata": {},
   "outputs": [],
   "source": [
    "yhat= results.params[0]+results.params[1]*(x.GNP)"
   ]
  },
  {
   "cell_type": "code",
   "execution_count": 24,
   "metadata": {},
   "outputs": [
    {
     "data": {
      "text/plain": [
       "[<matplotlib.lines.Line2D at 0x1c240e0c88>]"
      ]
     },
     "execution_count": 24,
     "metadata": {},
     "output_type": "execute_result"
    },
    {
     "data": {
      "image/png": "[encoded data removed]",
      "text/plain": [
       "<Figure size 432x288 with 1 Axes>"
      ]
     },
     "metadata": {
      "needs_background": "light"
     },
     "output_type": "display_data"
    }
   ],
   "source": [
    "plt.scatter([x.GNP],[y])\n",
    "plt.xlabel(\"GNP\")\n",
    "plt.ylabel(\"Employed\")\n",
    "plt.plot(x.GNP, yhat,c='red')"
   ]
  },
  {
   "cell_type": "markdown",
   "metadata": {},
   "source": [
    "# Exercise 01.3\n",
    "\n",
    "Analyze the baby names dataset using pandas"
   ]
  },
  {
   "cell_type": "code",
   "execution_count": 25,
   "metadata": {},
   "outputs": [],
   "source": [
    "import pandas as pd\n",
    "# Load dataset\n",
    "import zipfile\n",
    "with zipfile.ZipFile('../datasets/baby-names2.csv.zip', 'r') as z:\n",
    "    f = z.open('baby-names2.csv')\n",
    "    names = pd.io.parsers.read_table(f, sep=',')"
   ]
  },
  {
   "cell_type": "code",
   "execution_count": 26,
   "metadata": {},
   "outputs": [
    {
     "data": {
      "text/html": [
       "<div>\n",
       "<style scoped>\n",
       "    .dataframe tbody tr th:only-of-type {\n",
       "        vertical-align: middle;\n",
       "    }\n",
       "\n",
       "    .dataframe tbody tr th {\n",
       "        vertical-align: top;\n",
       "    }\n",
       "\n",
       "    .dataframe thead th {\n",
       "        text-align: right;\n",
       "    }\n",
       "</style>\n",
       "<table border=\"1\" class=\"dataframe\">\n",
       "  <thead>\n",
       "    <tr style=\"text-align: right;\">\n",
       "      <th></th>\n",
       "      <th>year</th>\n",
       "      <th>name</th>\n",
       "      <th>prop</th>\n",
       "      <th>sex</th>\n",
       "      <th>soundex</th>\n",
       "    </tr>\n",
       "  </thead>\n",
       "  <tbody>\n",
       "    <tr>\n",
       "      <th>0</th>\n",
       "      <td>1880</td>\n",
       "      <td>John</td>\n",
       "      <td>0.081541</td>\n",
       "      <td>boy</td>\n",
       "      <td>J500</td>\n",
       "    </tr>\n",
       "    <tr>\n",
       "      <th>1</th>\n",
       "      <td>1880</td>\n",
       "      <td>William</td>\n",
       "      <td>0.080511</td>\n",
       "      <td>boy</td>\n",
       "      <td>W450</td>\n",
       "    </tr>\n",
       "    <tr>\n",
       "      <th>2</th>\n",
       "      <td>1880</td>\n",
       "      <td>James</td>\n",
       "      <td>0.050057</td>\n",
       "      <td>boy</td>\n",
       "      <td>J520</td>\n",
       "    </tr>\n",
       "    <tr>\n",
       "      <th>3</th>\n",
       "      <td>1880</td>\n",
       "      <td>Charles</td>\n",
       "      <td>0.045167</td>\n",
       "      <td>boy</td>\n",
       "      <td>C642</td>\n",
       "    </tr>\n",
       "    <tr>\n",
       "      <th>4</th>\n",
       "      <td>1880</td>\n",
       "      <td>George</td>\n",
       "      <td>0.043292</td>\n",
       "      <td>boy</td>\n",
       "      <td>G620</td>\n",
       "    </tr>\n",
       "  </tbody>\n",
       "</table>\n",
       "</div>"
      ],
      "text/plain": [
       "   year     name      prop  sex soundex\n",
       "0  1880     John  0.081541  boy    J500\n",
       "1  1880  William  0.080511  boy    W450\n",
       "2  1880    James  0.050057  boy    J520\n",
       "3  1880  Charles  0.045167  boy    C642\n",
       "4  1880   George  0.043292  boy    G620"
      ]
     },
     "execution_count": 26,
     "metadata": {},
     "output_type": "execute_result"
    }
   ],
   "source": [
    "names.head()"
   ]
  },
  {
   "cell_type": "code",
   "execution_count": 27,
   "metadata": {
    "scrolled": true
   },
   "outputs": [
    {
     "data": {
      "text/html": [
       "<div>\n",
       "<style scoped>\n",
       "    .dataframe tbody tr th:only-of-type {\n",
       "        vertical-align: middle;\n",
       "    }\n",
       "\n",
       "    .dataframe tbody tr th {\n",
       "        vertical-align: top;\n",
       "    }\n",
       "\n",
       "    .dataframe thead th {\n",
       "        text-align: right;\n",
       "    }\n",
       "</style>\n",
       "<table border=\"1\" class=\"dataframe\">\n",
       "  <thead>\n",
       "    <tr style=\"text-align: right;\">\n",
       "      <th></th>\n",
       "      <th>year</th>\n",
       "      <th>name</th>\n",
       "      <th>prop</th>\n",
       "      <th>sex</th>\n",
       "      <th>soundex</th>\n",
       "    </tr>\n",
       "  </thead>\n",
       "  <tbody>\n",
       "    <tr>\n",
       "      <th>113000</th>\n",
       "      <td>1993</td>\n",
       "      <td>Michael</td>\n",
       "      <td>0.024010</td>\n",
       "      <td>boy</td>\n",
       "      <td>M240</td>\n",
       "    </tr>\n",
       "    <tr>\n",
       "      <th>113001</th>\n",
       "      <td>1993</td>\n",
       "      <td>Christopher</td>\n",
       "      <td>0.018572</td>\n",
       "      <td>boy</td>\n",
       "      <td>C623</td>\n",
       "    </tr>\n",
       "    <tr>\n",
       "      <th>113002</th>\n",
       "      <td>1993</td>\n",
       "      <td>Matthew</td>\n",
       "      <td>0.017332</td>\n",
       "      <td>boy</td>\n",
       "      <td>M300</td>\n",
       "    </tr>\n",
       "    <tr>\n",
       "      <th>113003</th>\n",
       "      <td>1993</td>\n",
       "      <td>Joshua</td>\n",
       "      <td>0.016268</td>\n",
       "      <td>boy</td>\n",
       "      <td>J200</td>\n",
       "    </tr>\n",
       "    <tr>\n",
       "      <th>113004</th>\n",
       "      <td>1993</td>\n",
       "      <td>Tyler</td>\n",
       "      <td>0.014439</td>\n",
       "      <td>boy</td>\n",
       "      <td>T460</td>\n",
       "    </tr>\n",
       "  </tbody>\n",
       "</table>\n",
       "</div>"
      ],
      "text/plain": [
       "        year         name      prop  sex soundex\n",
       "113000  1993      Michael  0.024010  boy    M240\n",
       "113001  1993  Christopher  0.018572  boy    C623\n",
       "113002  1993      Matthew  0.017332  boy    M300\n",
       "113003  1993       Joshua  0.016268  boy    J200\n",
       "113004  1993        Tyler  0.014439  boy    T460"
      ]
     },
     "execution_count": 27,
     "metadata": {},
     "output_type": "execute_result"
    }
   ],
   "source": [
    "names[names.year == 1993].head()   "
   ]
  },
  {
   "cell_type": "code",
   "execution_count": 28,
   "metadata": {},
   "outputs": [
    {
     "name": "stdout",
     "output_type": "stream",
     "text": [
      "<class 'pandas.core.frame.DataFrame'>\n",
      "RangeIndex: 258000 entries, 0 to 257999\n",
      "Data columns (total 5 columns):\n",
      "year       258000 non-null int64\n",
      "name       258000 non-null object\n",
      "prop       258000 non-null float64\n",
      "sex        258000 non-null object\n",
      "soundex    258000 non-null object\n",
      "dtypes: float64(1), int64(1), object(3)\n",
      "memory usage: 9.8+ MB\n"
     ]
    }
   ],
   "source": [
    "names.info()"
   ]
  },
  {
   "cell_type": "markdown",
   "metadata": {},
   "source": [
    "### segment the data into boy and girl names"
   ]
  },
  {
   "cell_type": "code",
   "execution_count": 29,
   "metadata": {
    "scrolled": true
   },
   "outputs": [
    {
     "name": "stdout",
     "output_type": "stream",
     "text": [
      "<class 'pandas.core.frame.DataFrame'>\n"
     ]
    }
   ],
   "source": [
    "boys = names[names.sex == 'boy']   \n",
    "girls = names[names.sex == 'girl'].copy()\n",
    "print(type(boys))\n"
   ]
  },
  {
   "cell_type": "markdown",
   "metadata": {},
   "source": [
    "### Analyzing the popularity of a name over time"
   ]
  },
  {
   "cell_type": "code",
   "execution_count": 30,
   "metadata": {},
   "outputs": [
    {
     "data": {
      "image/png": "[encoded data removed]",
      "text/plain": [
       "<Figure size 432x288 with 1 Axes>"
      ]
     },
     "metadata": {
      "needs_background": "light"
     },
     "output_type": "display_data"
    }
   ],
   "source": [
    "william = boys[boys['name']=='William']\n",
    "\n",
    "plt.plot(range(william.shape[0]), william['prop'])\n",
    "plt.xticks(range(william.shape[0])[::5], william['year'].values[::5], rotation='vertical')\n",
    "plt.ylim([0, 0.1])\n",
    "plt.show()"
   ]
  },
  {
   "cell_type": "code",
   "execution_count": 31,
   "metadata": {},
   "outputs": [
    {
     "data": {
      "image/png": "[encoded data removed]",
      "text/plain": [
       "<Figure size 432x288 with 1 Axes>"
      ]
     },
     "metadata": {
      "needs_background": "light"
     },
     "output_type": "display_data"
    }
   ],
   "source": [
    "Daniel = boys[boys['name']=='Daniel']\n",
    "\n",
    "plt.plot(range(Daniel.shape[0]), Daniel['prop'])\n",
    "plt.xticks(range(Daniel.shape[0])[::5], Daniel['year'].values[::5], rotation='vertical')\n",
    "plt.ylim([0, 0.1])\n",
    "plt.show()"
   ]
  },
  {
   "cell_type": "markdown",
   "metadata": {},
   "source": [
    "# Exercise 01.3\n",
    "\n",
    "Which has been the most popular boy name every decade?"
   ]
  },
  {
   "cell_type": "code",
   "execution_count": 38,
   "metadata": {
    "collapsed": true
   },
   "outputs": [
    {
     "data": {
      "text/html": [
       "<div>\n",
       "<style scoped>\n",
       "    .dataframe tbody tr th:only-of-type {\n",
       "        vertical-align: middle;\n",
       "    }\n",
       "\n",
       "    .dataframe tbody tr th {\n",
       "        vertical-align: top;\n",
       "    }\n",
       "\n",
       "    .dataframe thead th {\n",
       "        text-align: right;\n",
       "    }\n",
       "</style>\n",
       "<table border=\"1\" class=\"dataframe\">\n",
       "  <thead>\n",
       "    <tr style=\"text-align: right;\">\n",
       "      <th></th>\n",
       "      <th>year</th>\n",
       "      <th>name</th>\n",
       "    </tr>\n",
       "  </thead>\n",
       "  <tbody>\n",
       "    <tr>\n",
       "      <th>1</th>\n",
       "      <td>1880</td>\n",
       "      <td>William</td>\n",
       "    </tr>\n",
       "    <tr>\n",
       "      <th>2</th>\n",
       "      <td>1880</td>\n",
       "      <td>James</td>\n",
       "    </tr>\n",
       "    <tr>\n",
       "      <th>3</th>\n",
       "      <td>1880</td>\n",
       "      <td>Charles</td>\n",
       "    </tr>\n",
       "    <tr>\n",
       "      <th>4</th>\n",
       "      <td>1880</td>\n",
       "      <td>George</td>\n",
       "    </tr>\n",
       "    <tr>\n",
       "      <th>5</th>\n",
       "      <td>1880</td>\n",
       "      <td>Frank</td>\n",
       "    </tr>\n",
       "    <tr>\n",
       "      <th>6</th>\n",
       "      <td>1880</td>\n",
       "      <td>Joseph</td>\n",
       "    </tr>\n",
       "    <tr>\n",
       "      <th>7</th>\n",
       "      <td>1880</td>\n",
       "      <td>Thomas</td>\n",
       "    </tr>\n",
       "    <tr>\n",
       "      <th>8</th>\n",
       "      <td>1880</td>\n",
       "      <td>Henry</td>\n",
       "    </tr>\n",
       "    <tr>\n",
       "      <th>9</th>\n",
       "      <td>1880</td>\n",
       "      <td>Robert</td>\n",
       "    </tr>\n",
       "    <tr>\n",
       "      <th>10</th>\n",
       "      <td>1880</td>\n",
       "      <td>Edward</td>\n",
       "    </tr>\n",
       "    <tr>\n",
       "      <th>11</th>\n",
       "      <td>1880</td>\n",
       "      <td>Harry</td>\n",
       "    </tr>\n",
       "    <tr>\n",
       "      <th>12</th>\n",
       "      <td>1880</td>\n",
       "      <td>Walter</td>\n",
       "    </tr>\n",
       "    <tr>\n",
       "      <th>13</th>\n",
       "      <td>1880</td>\n",
       "      <td>Arthur</td>\n",
       "    </tr>\n",
       "    <tr>\n",
       "      <th>14</th>\n",
       "      <td>1880</td>\n",
       "      <td>Fred</td>\n",
       "    </tr>\n",
       "    <tr>\n",
       "      <th>15</th>\n",
       "      <td>1880</td>\n",
       "      <td>Albert</td>\n",
       "    </tr>\n",
       "    <tr>\n",
       "      <th>16</th>\n",
       "      <td>1880</td>\n",
       "      <td>Samuel</td>\n",
       "    </tr>\n",
       "    <tr>\n",
       "      <th>17</th>\n",
       "      <td>1880</td>\n",
       "      <td>David</td>\n",
       "    </tr>\n",
       "    <tr>\n",
       "      <th>18</th>\n",
       "      <td>1880</td>\n",
       "      <td>Louis</td>\n",
       "    </tr>\n",
       "    <tr>\n",
       "      <th>19</th>\n",
       "      <td>1880</td>\n",
       "      <td>Joe</td>\n",
       "    </tr>\n",
       "    <tr>\n",
       "      <th>20</th>\n",
       "      <td>1880</td>\n",
       "      <td>Charlie</td>\n",
       "    </tr>\n",
       "    <tr>\n",
       "      <th>21</th>\n",
       "      <td>1880</td>\n",
       "      <td>Clarence</td>\n",
       "    </tr>\n",
       "    <tr>\n",
       "      <th>22</th>\n",
       "      <td>1880</td>\n",
       "      <td>Richard</td>\n",
       "    </tr>\n",
       "    <tr>\n",
       "      <th>23</th>\n",
       "      <td>1880</td>\n",
       "      <td>Andrew</td>\n",
       "    </tr>\n",
       "    <tr>\n",
       "      <th>24</th>\n",
       "      <td>1880</td>\n",
       "      <td>Daniel</td>\n",
       "    </tr>\n",
       "    <tr>\n",
       "      <th>25</th>\n",
       "      <td>1880</td>\n",
       "      <td>Ernest</td>\n",
       "    </tr>\n",
       "    <tr>\n",
       "      <th>26</th>\n",
       "      <td>1880</td>\n",
       "      <td>Will</td>\n",
       "    </tr>\n",
       "    <tr>\n",
       "      <th>27</th>\n",
       "      <td>1880</td>\n",
       "      <td>Jesse</td>\n",
       "    </tr>\n",
       "    <tr>\n",
       "      <th>28</th>\n",
       "      <td>1880</td>\n",
       "      <td>Oscar</td>\n",
       "    </tr>\n",
       "    <tr>\n",
       "      <th>29</th>\n",
       "      <td>1880</td>\n",
       "      <td>Lewis</td>\n",
       "    </tr>\n",
       "    <tr>\n",
       "      <th>30</th>\n",
       "      <td>1880</td>\n",
       "      <td>Peter</td>\n",
       "    </tr>\n",
       "    <tr>\n",
       "      <th>...</th>\n",
       "      <td>...</td>\n",
       "      <td>...</td>\n",
       "    </tr>\n",
       "    <tr>\n",
       "      <th>128970</th>\n",
       "      <td>2008</td>\n",
       "      <td>Landin</td>\n",
       "    </tr>\n",
       "    <tr>\n",
       "      <th>128971</th>\n",
       "      <td>2008</td>\n",
       "      <td>Reagan</td>\n",
       "    </tr>\n",
       "    <tr>\n",
       "      <th>128972</th>\n",
       "      <td>2008</td>\n",
       "      <td>Turner</td>\n",
       "    </tr>\n",
       "    <tr>\n",
       "      <th>128973</th>\n",
       "      <td>2008</td>\n",
       "      <td>Arnav</td>\n",
       "    </tr>\n",
       "    <tr>\n",
       "      <th>128974</th>\n",
       "      <td>2008</td>\n",
       "      <td>Brenton</td>\n",
       "    </tr>\n",
       "    <tr>\n",
       "      <th>128975</th>\n",
       "      <td>2008</td>\n",
       "      <td>Callum</td>\n",
       "    </tr>\n",
       "    <tr>\n",
       "      <th>128976</th>\n",
       "      <td>2008</td>\n",
       "      <td>Jayvion</td>\n",
       "    </tr>\n",
       "    <tr>\n",
       "      <th>128977</th>\n",
       "      <td>2008</td>\n",
       "      <td>Bridger</td>\n",
       "    </tr>\n",
       "    <tr>\n",
       "      <th>128978</th>\n",
       "      <td>2008</td>\n",
       "      <td>Sammy</td>\n",
       "    </tr>\n",
       "    <tr>\n",
       "      <th>128979</th>\n",
       "      <td>2008</td>\n",
       "      <td>Deegan</td>\n",
       "    </tr>\n",
       "    <tr>\n",
       "      <th>128980</th>\n",
       "      <td>2008</td>\n",
       "      <td>Jaylan</td>\n",
       "    </tr>\n",
       "    <tr>\n",
       "      <th>128981</th>\n",
       "      <td>2008</td>\n",
       "      <td>Lennon</td>\n",
       "    </tr>\n",
       "    <tr>\n",
       "      <th>128982</th>\n",
       "      <td>2008</td>\n",
       "      <td>Odin</td>\n",
       "    </tr>\n",
       "    <tr>\n",
       "      <th>128983</th>\n",
       "      <td>2008</td>\n",
       "      <td>Abdiel</td>\n",
       "    </tr>\n",
       "    <tr>\n",
       "      <th>128984</th>\n",
       "      <td>2008</td>\n",
       "      <td>Jerimiah</td>\n",
       "    </tr>\n",
       "    <tr>\n",
       "      <th>128985</th>\n",
       "      <td>2008</td>\n",
       "      <td>Eliezer</td>\n",
       "    </tr>\n",
       "    <tr>\n",
       "      <th>128986</th>\n",
       "      <td>2008</td>\n",
       "      <td>Bronson</td>\n",
       "    </tr>\n",
       "    <tr>\n",
       "      <th>128987</th>\n",
       "      <td>2008</td>\n",
       "      <td>Cornelius</td>\n",
       "    </tr>\n",
       "    <tr>\n",
       "      <th>128988</th>\n",
       "      <td>2008</td>\n",
       "      <td>Pierre</td>\n",
       "    </tr>\n",
       "    <tr>\n",
       "      <th>128989</th>\n",
       "      <td>2008</td>\n",
       "      <td>Cortez</td>\n",
       "    </tr>\n",
       "    <tr>\n",
       "      <th>128990</th>\n",
       "      <td>2008</td>\n",
       "      <td>Baron</td>\n",
       "    </tr>\n",
       "    <tr>\n",
       "      <th>128991</th>\n",
       "      <td>2008</td>\n",
       "      <td>Carlo</td>\n",
       "    </tr>\n",
       "    <tr>\n",
       "      <th>128992</th>\n",
       "      <td>2008</td>\n",
       "      <td>Carsen</td>\n",
       "    </tr>\n",
       "    <tr>\n",
       "      <th>128993</th>\n",
       "      <td>2008</td>\n",
       "      <td>Fletcher</td>\n",
       "    </tr>\n",
       "    <tr>\n",
       "      <th>128994</th>\n",
       "      <td>2008</td>\n",
       "      <td>Izayah</td>\n",
       "    </tr>\n",
       "    <tr>\n",
       "      <th>128995</th>\n",
       "      <td>2008</td>\n",
       "      <td>Kolten</td>\n",
       "    </tr>\n",
       "    <tr>\n",
       "      <th>128996</th>\n",
       "      <td>2008</td>\n",
       "      <td>Damari</td>\n",
       "    </tr>\n",
       "    <tr>\n",
       "      <th>128997</th>\n",
       "      <td>2008</td>\n",
       "      <td>Hugh</td>\n",
       "    </tr>\n",
       "    <tr>\n",
       "      <th>128998</th>\n",
       "      <td>2008</td>\n",
       "      <td>Jensen</td>\n",
       "    </tr>\n",
       "    <tr>\n",
       "      <th>128999</th>\n",
       "      <td>2008</td>\n",
       "      <td>Yurem</td>\n",
       "    </tr>\n",
       "  </tbody>\n",
       "</table>\n",
       "<p>128999 rows × 2 columns</p>\n",
       "</div>"
      ],
      "text/plain": [
       "        year       name\n",
       "1       1880    William\n",
       "2       1880      James\n",
       "3       1880    Charles\n",
       "4       1880     George\n",
       "5       1880      Frank\n",
       "6       1880     Joseph\n",
       "7       1880     Thomas\n",
       "8       1880      Henry\n",
       "9       1880     Robert\n",
       "10      1880     Edward\n",
       "11      1880      Harry\n",
       "12      1880     Walter\n",
       "13      1880     Arthur\n",
       "14      1880       Fred\n",
       "15      1880     Albert\n",
       "16      1880     Samuel\n",
       "17      1880      David\n",
       "18      1880      Louis\n",
       "19      1880        Joe\n",
       "20      1880    Charlie\n",
       "21      1880   Clarence\n",
       "22      1880    Richard\n",
       "23      1880     Andrew\n",
       "24      1880     Daniel\n",
       "25      1880     Ernest\n",
       "26      1880       Will\n",
       "27      1880      Jesse\n",
       "28      1880      Oscar\n",
       "29      1880      Lewis\n",
       "30      1880      Peter\n",
       "...      ...        ...\n",
       "128970  2008     Landin\n",
       "128971  2008     Reagan\n",
       "128972  2008     Turner\n",
       "128973  2008      Arnav\n",
       "128974  2008    Brenton\n",
       "128975  2008     Callum\n",
       "128976  2008    Jayvion\n",
       "128977  2008    Bridger\n",
       "128978  2008      Sammy\n",
       "128979  2008     Deegan\n",
       "128980  2008     Jaylan\n",
       "128981  2008     Lennon\n",
       "128982  2008       Odin\n",
       "128983  2008     Abdiel\n",
       "128984  2008   Jerimiah\n",
       "128985  2008    Eliezer\n",
       "128986  2008    Bronson\n",
       "128987  2008  Cornelius\n",
       "128988  2008     Pierre\n",
       "128989  2008     Cortez\n",
       "128990  2008      Baron\n",
       "128991  2008      Carlo\n",
       "128992  2008     Carsen\n",
       "128993  2008   Fletcher\n",
       "128994  2008     Izayah\n",
       "128995  2008     Kolten\n",
       "128996  2008     Damari\n",
       "128997  2008       Hugh\n",
       "128998  2008     Jensen\n",
       "128999  2008      Yurem\n",
       "\n",
       "[128999 rows x 2 columns]"
      ]
     },
     "execution_count": 38,
     "metadata": {},
     "output_type": "execute_result"
    }
   ],
   "source": [
    "popular=boys.loc[1:,['year','name']]\n",
    "popular"
   ]
  },
  {
   "cell_type": "code",
   "execution_count": 36,
   "metadata": {},
   "outputs": [
    {
     "name": "stderr",
     "output_type": "stream",
     "text": [
      "/Users/andreasaenz/anaconda3/lib/python3.7/site-packages/ipykernel_launcher.py:2: SettingWithCopyWarning: \n",
      "A value is trying to be set on a copy of a slice from a DataFrame.\n",
      "Try using .loc[row_indexer,col_indexer] = value instead\n",
      "\n",
      "See the caveats in the documentation: http://pandas.pydata.org/pandas-docs/stable/indexing.html#indexing-view-versus-copy\n",
      "  \n"
     ]
    },
    {
     "data": {
      "text/html": [
       "<div>\n",
       "<style scoped>\n",
       "    .dataframe tbody tr th:only-of-type {\n",
       "        vertical-align: middle;\n",
       "    }\n",
       "\n",
       "    .dataframe tbody tr th {\n",
       "        vertical-align: top;\n",
       "    }\n",
       "\n",
       "    .dataframe thead th {\n",
       "        text-align: right;\n",
       "    }\n",
       "</style>\n",
       "<table border=\"1\" class=\"dataframe\">\n",
       "  <thead>\n",
       "    <tr style=\"text-align: right;\">\n",
       "      <th></th>\n",
       "      <th>decade</th>\n",
       "      <th>name</th>\n",
       "    </tr>\n",
       "  </thead>\n",
       "  <tbody>\n",
       "    <tr>\n",
       "      <th>0</th>\n",
       "      <td>[1880, 1890)</td>\n",
       "      <td>John</td>\n",
       "    </tr>\n",
       "    <tr>\n",
       "      <th>10000</th>\n",
       "      <td>[1890, 1900)</td>\n",
       "      <td>John</td>\n",
       "    </tr>\n",
       "    <tr>\n",
       "      <th>20000</th>\n",
       "      <td>[1900, 1910)</td>\n",
       "      <td>John</td>\n",
       "    </tr>\n",
       "    <tr>\n",
       "      <th>31000</th>\n",
       "      <td>[1910, 1920)</td>\n",
       "      <td>John</td>\n",
       "    </tr>\n",
       "    <tr>\n",
       "      <th>49000</th>\n",
       "      <td>[1920, 1930)</td>\n",
       "      <td>Robert</td>\n",
       "    </tr>\n",
       "    <tr>\n",
       "      <th>51000</th>\n",
       "      <td>[1930, 1940)</td>\n",
       "      <td>Robert</td>\n",
       "    </tr>\n",
       "    <tr>\n",
       "      <th>64000</th>\n",
       "      <td>[1940, 1950)</td>\n",
       "      <td>James</td>\n",
       "    </tr>\n",
       "    <tr>\n",
       "      <th>70000</th>\n",
       "      <td>[1950, 1960)</td>\n",
       "      <td>James</td>\n",
       "    </tr>\n",
       "    <tr>\n",
       "      <th>89000</th>\n",
       "      <td>[1960, 1970)</td>\n",
       "      <td>Michael</td>\n",
       "    </tr>\n",
       "    <tr>\n",
       "      <th>90000</th>\n",
       "      <td>[1970, 1980)</td>\n",
       "      <td>Michael</td>\n",
       "    </tr>\n",
       "    <tr>\n",
       "      <th>100000</th>\n",
       "      <td>[1980, 1990)</td>\n",
       "      <td>Michael</td>\n",
       "    </tr>\n",
       "    <tr>\n",
       "      <th>110000</th>\n",
       "      <td>[1990, 2000)</td>\n",
       "      <td>Michael</td>\n",
       "    </tr>\n",
       "    <tr>\n",
       "      <th>120000</th>\n",
       "      <td>[2000, 2010)</td>\n",
       "      <td>Jacob</td>\n",
       "    </tr>\n",
       "  </tbody>\n",
       "</table>\n",
       "</div>"
      ],
      "text/plain": [
       "              decade     name\n",
       "0       [1880, 1890)     John\n",
       "10000   [1890, 1900)     John\n",
       "20000   [1900, 1910)     John\n",
       "31000   [1910, 1920)     John\n",
       "49000   [1920, 1930)   Robert\n",
       "51000   [1930, 1940)   Robert\n",
       "64000   [1940, 1950)    James\n",
       "70000   [1950, 1960)    James\n",
       "89000   [1960, 1970)  Michael\n",
       "90000   [1970, 1980)  Michael\n",
       "100000  [1980, 1990)  Michael\n",
       "110000  [1990, 2000)  Michael\n",
       "120000  [2000, 2010)    Jacob"
      ]
     },
     "execution_count": 36,
     "metadata": {},
     "output_type": "execute_result"
    }
   ],
   "source": [
    "import math as mt\n",
    "boys['decade']=pd.cut(boys['year'].values,range(math.floor(min(boys['year'])/10)*10,math.ceil(max(boys['year'])/10)*10+10,10),False)\n",
    "boys[boys.groupby(by=['decade'])['prop'].transform(max)==boys['prop']][['decade','name']]"
   ]
  },
  {
   "cell_type": "markdown",
   "metadata": {},
   "source": [
    "# Exercise 01.4\n",
    "\n",
    "Which has been the most popular girl name?\n"
   ]
  },
  {
   "cell_type": "code",
   "execution_count": 21,
   "metadata": {},
   "outputs": [
    {
     "data": {
      "text/plain": [
       "'Zula'"
      ]
     },
     "execution_count": 21,
     "metadata": {},
     "output_type": "execute_result"
    }
   ],
   "source": [
    "girls.name.max()"
   ]
  },
  {
   "cell_type": "markdown",
   "metadata": {},
   "source": [
    "# Exercise 01.5\n",
    "\n",
    "What is the most popular new girl name? (new is a name that appears only in the 2000's)"
   ]
  },
  {
   "cell_type": "code",
   "execution_count": 22,
   "metadata": {},
   "outputs": [
    {
     "data": {
      "text/plain": [
       "year           2008\n",
       "name           Zoie\n",
       "prop       0.013017\n",
       "sex            girl\n",
       "soundex        Z600\n",
       "dtype: object"
      ]
     },
     "execution_count": 22,
     "metadata": {},
     "output_type": "execute_result"
    }
   ],
   "source": [
    "girls[girls.year >= 2000].max()"
   ]
  },
  {
   "cell_type": "code",
   "execution_count": null,
   "metadata": {},
   "outputs": [],
   "source": []
  }
 ],
 "metadata": {
  "kernelspec": {
   "display_name": "Python 3",
   "language": "python",
   "name": "python3"
  },
  "language_info": {
   "codemirror_mode": {
    "name": "ipython",
    "version": 3
   },
   "file_extension": ".py",
   "mimetype": "text/x-python",
   "name": "python",
   "nbconvert_exporter": "python",
   "pygments_lexer": "ipython3",
   "version": "3.7.1"
  }
 },
 "nbformat": 4,
 "nbformat_minor": 2
}
